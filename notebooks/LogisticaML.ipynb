{
 "cells": [
  {
   "cell_type": "code",
   "execution_count": 1,
   "id": "6c9e3a71-5b36-40c1-a06c-f6fdc5e6ccdf",
   "metadata": {},
   "outputs": [
    {
     "name": "stdout",
     "output_type": "stream",
     "text": [
      "Versão python utilizada: 3.11.5 | packaged by Anaconda, Inc. | (main, Sep 11 2023, 13:26:23) [MSC v.1916 64 bit (AMD64)]\n"
     ]
    }
   ],
   "source": [
    "import sys\n",
    "print(\"Versão python utilizada:\",sys.version)"
   ]
  },
  {
   "cell_type": "code",
   "execution_count": 2,
   "id": "ebac4b33-f7f3-4999-9605-3fe7f875f53e",
   "metadata": {},
   "outputs": [
    {
     "name": "stdout",
     "output_type": "stream",
     "text": [
      "C:\\Users\\Usuário\n"
     ]
    }
   ],
   "source": [
    "import os\n",
    "print(os.getcwd())\n"
   ]
  },
  {
   "cell_type": "code",
   "execution_count": 21,
   "id": "31506f27-754c-4f38-a864-1b7952e3d222",
   "metadata": {},
   "outputs": [],
   "source": [
    "import pandas as pd\n",
    "import numpy as np\n",
    "import matplotlib.pyplot as plt\n",
    "import seaborn as sn\n",
    "from pulp import LpMinimize, LpProblem, LpVariable, lpSum\n",
    "import joblib"
   ]
  },
  {
   "cell_type": "code",
   "execution_count": 4,
   "id": "e8a36de1-7bf6-4ad3-9ffe-b32a44016d34",
   "metadata": {},
   "outputs": [],
   "source": [
    "file_path = \"C:\\Python\\supply_chain_data.csv\"\n",
    "data = pd.read_csv(file_path)"
   ]
  },
  {
   "cell_type": "code",
   "execution_count": 5,
   "id": "f7f60662-7cc6-4e5b-83b0-e047c610fc99",
   "metadata": {},
   "outputs": [
    {
     "data": {
      "text/html": [
       "<div>\n",
       "<style scoped>\n",
       "    .dataframe tbody tr th:only-of-type {\n",
       "        vertical-align: middle;\n",
       "    }\n",
       "\n",
       "    .dataframe tbody tr th {\n",
       "        vertical-align: top;\n",
       "    }\n",
       "\n",
       "    .dataframe thead th {\n",
       "        text-align: right;\n",
       "    }\n",
       "</style>\n",
       "<table border=\"1\" class=\"dataframe\">\n",
       "  <thead>\n",
       "    <tr style=\"text-align: right;\">\n",
       "      <th></th>\n",
       "      <th>Product type</th>\n",
       "      <th>SKU</th>\n",
       "      <th>Price</th>\n",
       "      <th>Availability</th>\n",
       "      <th>Number of products sold</th>\n",
       "      <th>Revenue generated</th>\n",
       "      <th>Customer demographics</th>\n",
       "      <th>Stock levels</th>\n",
       "      <th>Lead times</th>\n",
       "      <th>Order quantities</th>\n",
       "      <th>...</th>\n",
       "      <th>Location</th>\n",
       "      <th>Lead time</th>\n",
       "      <th>Production volumes</th>\n",
       "      <th>Manufacturing lead time</th>\n",
       "      <th>Manufacturing costs</th>\n",
       "      <th>Inspection results</th>\n",
       "      <th>Defect rates</th>\n",
       "      <th>Transportation modes</th>\n",
       "      <th>Routes</th>\n",
       "      <th>Costs</th>\n",
       "    </tr>\n",
       "  </thead>\n",
       "  <tbody>\n",
       "    <tr>\n",
       "      <th>0</th>\n",
       "      <td>haircare</td>\n",
       "      <td>SKU0</td>\n",
       "      <td>69.808006</td>\n",
       "      <td>55</td>\n",
       "      <td>802</td>\n",
       "      <td>8661.996792</td>\n",
       "      <td>Non-binary</td>\n",
       "      <td>58</td>\n",
       "      <td>7</td>\n",
       "      <td>96</td>\n",
       "      <td>...</td>\n",
       "      <td>Mumbai</td>\n",
       "      <td>29</td>\n",
       "      <td>215</td>\n",
       "      <td>29</td>\n",
       "      <td>46.279879</td>\n",
       "      <td>Pending</td>\n",
       "      <td>0.226410</td>\n",
       "      <td>Road</td>\n",
       "      <td>Route B</td>\n",
       "      <td>187.752075</td>\n",
       "    </tr>\n",
       "    <tr>\n",
       "      <th>1</th>\n",
       "      <td>skincare</td>\n",
       "      <td>SKU1</td>\n",
       "      <td>14.843523</td>\n",
       "      <td>95</td>\n",
       "      <td>736</td>\n",
       "      <td>7460.900065</td>\n",
       "      <td>Female</td>\n",
       "      <td>53</td>\n",
       "      <td>30</td>\n",
       "      <td>37</td>\n",
       "      <td>...</td>\n",
       "      <td>Mumbai</td>\n",
       "      <td>23</td>\n",
       "      <td>517</td>\n",
       "      <td>30</td>\n",
       "      <td>33.616769</td>\n",
       "      <td>Pending</td>\n",
       "      <td>4.854068</td>\n",
       "      <td>Road</td>\n",
       "      <td>Route B</td>\n",
       "      <td>503.065579</td>\n",
       "    </tr>\n",
       "    <tr>\n",
       "      <th>2</th>\n",
       "      <td>haircare</td>\n",
       "      <td>SKU2</td>\n",
       "      <td>11.319683</td>\n",
       "      <td>34</td>\n",
       "      <td>8</td>\n",
       "      <td>9577.749626</td>\n",
       "      <td>Unknown</td>\n",
       "      <td>1</td>\n",
       "      <td>10</td>\n",
       "      <td>88</td>\n",
       "      <td>...</td>\n",
       "      <td>Mumbai</td>\n",
       "      <td>12</td>\n",
       "      <td>971</td>\n",
       "      <td>27</td>\n",
       "      <td>30.688019</td>\n",
       "      <td>Pending</td>\n",
       "      <td>4.580593</td>\n",
       "      <td>Air</td>\n",
       "      <td>Route C</td>\n",
       "      <td>141.920282</td>\n",
       "    </tr>\n",
       "    <tr>\n",
       "      <th>3</th>\n",
       "      <td>skincare</td>\n",
       "      <td>SKU3</td>\n",
       "      <td>61.163343</td>\n",
       "      <td>68</td>\n",
       "      <td>83</td>\n",
       "      <td>7766.836426</td>\n",
       "      <td>Non-binary</td>\n",
       "      <td>23</td>\n",
       "      <td>13</td>\n",
       "      <td>59</td>\n",
       "      <td>...</td>\n",
       "      <td>Kolkata</td>\n",
       "      <td>24</td>\n",
       "      <td>937</td>\n",
       "      <td>18</td>\n",
       "      <td>35.624741</td>\n",
       "      <td>Fail</td>\n",
       "      <td>4.746649</td>\n",
       "      <td>Rail</td>\n",
       "      <td>Route A</td>\n",
       "      <td>254.776159</td>\n",
       "    </tr>\n",
       "    <tr>\n",
       "      <th>4</th>\n",
       "      <td>skincare</td>\n",
       "      <td>SKU4</td>\n",
       "      <td>4.805496</td>\n",
       "      <td>26</td>\n",
       "      <td>871</td>\n",
       "      <td>2686.505152</td>\n",
       "      <td>Non-binary</td>\n",
       "      <td>5</td>\n",
       "      <td>3</td>\n",
       "      <td>56</td>\n",
       "      <td>...</td>\n",
       "      <td>Delhi</td>\n",
       "      <td>5</td>\n",
       "      <td>414</td>\n",
       "      <td>3</td>\n",
       "      <td>92.065161</td>\n",
       "      <td>Fail</td>\n",
       "      <td>3.145580</td>\n",
       "      <td>Air</td>\n",
       "      <td>Route A</td>\n",
       "      <td>923.440632</td>\n",
       "    </tr>\n",
       "    <tr>\n",
       "      <th>5</th>\n",
       "      <td>haircare</td>\n",
       "      <td>SKU5</td>\n",
       "      <td>1.699976</td>\n",
       "      <td>87</td>\n",
       "      <td>147</td>\n",
       "      <td>2828.348746</td>\n",
       "      <td>Non-binary</td>\n",
       "      <td>90</td>\n",
       "      <td>27</td>\n",
       "      <td>66</td>\n",
       "      <td>...</td>\n",
       "      <td>Bangalore</td>\n",
       "      <td>10</td>\n",
       "      <td>104</td>\n",
       "      <td>17</td>\n",
       "      <td>56.766476</td>\n",
       "      <td>Fail</td>\n",
       "      <td>2.779194</td>\n",
       "      <td>Road</td>\n",
       "      <td>Route A</td>\n",
       "      <td>235.461237</td>\n",
       "    </tr>\n",
       "    <tr>\n",
       "      <th>6</th>\n",
       "      <td>skincare</td>\n",
       "      <td>SKU6</td>\n",
       "      <td>4.078333</td>\n",
       "      <td>48</td>\n",
       "      <td>65</td>\n",
       "      <td>7823.476560</td>\n",
       "      <td>Male</td>\n",
       "      <td>11</td>\n",
       "      <td>15</td>\n",
       "      <td>58</td>\n",
       "      <td>...</td>\n",
       "      <td>Kolkata</td>\n",
       "      <td>14</td>\n",
       "      <td>314</td>\n",
       "      <td>24</td>\n",
       "      <td>1.085069</td>\n",
       "      <td>Pending</td>\n",
       "      <td>1.000911</td>\n",
       "      <td>Sea</td>\n",
       "      <td>Route A</td>\n",
       "      <td>134.369097</td>\n",
       "    </tr>\n",
       "    <tr>\n",
       "      <th>7</th>\n",
       "      <td>cosmetics</td>\n",
       "      <td>SKU7</td>\n",
       "      <td>42.958384</td>\n",
       "      <td>59</td>\n",
       "      <td>426</td>\n",
       "      <td>8496.103813</td>\n",
       "      <td>Female</td>\n",
       "      <td>93</td>\n",
       "      <td>17</td>\n",
       "      <td>11</td>\n",
       "      <td>...</td>\n",
       "      <td>Bangalore</td>\n",
       "      <td>22</td>\n",
       "      <td>564</td>\n",
       "      <td>1</td>\n",
       "      <td>99.466109</td>\n",
       "      <td>Fail</td>\n",
       "      <td>0.398177</td>\n",
       "      <td>Road</td>\n",
       "      <td>Route C</td>\n",
       "      <td>802.056312</td>\n",
       "    </tr>\n",
       "    <tr>\n",
       "      <th>8</th>\n",
       "      <td>cosmetics</td>\n",
       "      <td>SKU8</td>\n",
       "      <td>68.717597</td>\n",
       "      <td>78</td>\n",
       "      <td>150</td>\n",
       "      <td>7517.363211</td>\n",
       "      <td>Female</td>\n",
       "      <td>5</td>\n",
       "      <td>10</td>\n",
       "      <td>15</td>\n",
       "      <td>...</td>\n",
       "      <td>Mumbai</td>\n",
       "      <td>13</td>\n",
       "      <td>769</td>\n",
       "      <td>8</td>\n",
       "      <td>11.423027</td>\n",
       "      <td>Pending</td>\n",
       "      <td>2.709863</td>\n",
       "      <td>Sea</td>\n",
       "      <td>Route B</td>\n",
       "      <td>505.557134</td>\n",
       "    </tr>\n",
       "    <tr>\n",
       "      <th>9</th>\n",
       "      <td>skincare</td>\n",
       "      <td>SKU9</td>\n",
       "      <td>64.015733</td>\n",
       "      <td>35</td>\n",
       "      <td>980</td>\n",
       "      <td>4971.145988</td>\n",
       "      <td>Unknown</td>\n",
       "      <td>14</td>\n",
       "      <td>27</td>\n",
       "      <td>83</td>\n",
       "      <td>...</td>\n",
       "      <td>Chennai</td>\n",
       "      <td>29</td>\n",
       "      <td>963</td>\n",
       "      <td>23</td>\n",
       "      <td>47.957602</td>\n",
       "      <td>Pending</td>\n",
       "      <td>3.844614</td>\n",
       "      <td>Rail</td>\n",
       "      <td>Route B</td>\n",
       "      <td>995.929461</td>\n",
       "    </tr>\n",
       "    <tr>\n",
       "      <th>10</th>\n",
       "      <td>skincare</td>\n",
       "      <td>SKU10</td>\n",
       "      <td>15.707796</td>\n",
       "      <td>11</td>\n",
       "      <td>996</td>\n",
       "      <td>2330.965802</td>\n",
       "      <td>Non-binary</td>\n",
       "      <td>51</td>\n",
       "      <td>13</td>\n",
       "      <td>80</td>\n",
       "      <td>...</td>\n",
       "      <td>Kolkata</td>\n",
       "      <td>18</td>\n",
       "      <td>830</td>\n",
       "      <td>5</td>\n",
       "      <td>96.527353</td>\n",
       "      <td>Pass</td>\n",
       "      <td>1.727314</td>\n",
       "      <td>Road</td>\n",
       "      <td>Route B</td>\n",
       "      <td>806.103178</td>\n",
       "    </tr>\n",
       "  </tbody>\n",
       "</table>\n",
       "<p>11 rows × 24 columns</p>\n",
       "</div>"
      ],
      "text/plain": [
       "   Product type    SKU      Price  Availability  Number of products sold  \\\n",
       "0      haircare   SKU0  69.808006            55                      802   \n",
       "1      skincare   SKU1  14.843523            95                      736   \n",
       "2      haircare   SKU2  11.319683            34                        8   \n",
       "3      skincare   SKU3  61.163343            68                       83   \n",
       "4      skincare   SKU4   4.805496            26                      871   \n",
       "5      haircare   SKU5   1.699976            87                      147   \n",
       "6      skincare   SKU6   4.078333            48                       65   \n",
       "7     cosmetics   SKU7  42.958384            59                      426   \n",
       "8     cosmetics   SKU8  68.717597            78                      150   \n",
       "9      skincare   SKU9  64.015733            35                      980   \n",
       "10     skincare  SKU10  15.707796            11                      996   \n",
       "\n",
       "    Revenue generated Customer demographics  Stock levels  Lead times  \\\n",
       "0         8661.996792            Non-binary            58           7   \n",
       "1         7460.900065                Female            53          30   \n",
       "2         9577.749626               Unknown             1          10   \n",
       "3         7766.836426            Non-binary            23          13   \n",
       "4         2686.505152            Non-binary             5           3   \n",
       "5         2828.348746            Non-binary            90          27   \n",
       "6         7823.476560                  Male            11          15   \n",
       "7         8496.103813                Female            93          17   \n",
       "8         7517.363211                Female             5          10   \n",
       "9         4971.145988               Unknown            14          27   \n",
       "10        2330.965802            Non-binary            51          13   \n",
       "\n",
       "    Order quantities  ...   Location Lead time  Production volumes  \\\n",
       "0                 96  ...     Mumbai        29                 215   \n",
       "1                 37  ...     Mumbai        23                 517   \n",
       "2                 88  ...     Mumbai        12                 971   \n",
       "3                 59  ...    Kolkata        24                 937   \n",
       "4                 56  ...      Delhi         5                 414   \n",
       "5                 66  ...  Bangalore        10                 104   \n",
       "6                 58  ...    Kolkata        14                 314   \n",
       "7                 11  ...  Bangalore        22                 564   \n",
       "8                 15  ...     Mumbai        13                 769   \n",
       "9                 83  ...    Chennai        29                 963   \n",
       "10                80  ...    Kolkata        18                 830   \n",
       "\n",
       "   Manufacturing lead time Manufacturing costs  Inspection results  \\\n",
       "0                       29           46.279879             Pending   \n",
       "1                       30           33.616769             Pending   \n",
       "2                       27           30.688019             Pending   \n",
       "3                       18           35.624741                Fail   \n",
       "4                        3           92.065161                Fail   \n",
       "5                       17           56.766476                Fail   \n",
       "6                       24            1.085069             Pending   \n",
       "7                        1           99.466109                Fail   \n",
       "8                        8           11.423027             Pending   \n",
       "9                       23           47.957602             Pending   \n",
       "10                       5           96.527353                Pass   \n",
       "\n",
       "    Defect rates  Transportation modes   Routes       Costs  \n",
       "0       0.226410                  Road  Route B  187.752075  \n",
       "1       4.854068                  Road  Route B  503.065579  \n",
       "2       4.580593                   Air  Route C  141.920282  \n",
       "3       4.746649                  Rail  Route A  254.776159  \n",
       "4       3.145580                   Air  Route A  923.440632  \n",
       "5       2.779194                  Road  Route A  235.461237  \n",
       "6       1.000911                   Sea  Route A  134.369097  \n",
       "7       0.398177                  Road  Route C  802.056312  \n",
       "8       2.709863                   Sea  Route B  505.557134  \n",
       "9       3.844614                  Rail  Route B  995.929461  \n",
       "10      1.727314                  Road  Route B  806.103178  \n",
       "\n",
       "[11 rows x 24 columns]"
      ]
     },
     "execution_count": 5,
     "metadata": {},
     "output_type": "execute_result"
    }
   ],
   "source": [
    "data.head(11)"
   ]
  },
  {
   "cell_type": "code",
   "execution_count": 6,
   "id": "4684154e-984c-41c4-8316-4bb5ab3bdd02",
   "metadata": {},
   "outputs": [
    {
     "name": "stdout",
     "output_type": "stream",
     "text": [
      "<class 'pandas.core.frame.DataFrame'>\n",
      "RangeIndex: 100 entries, 0 to 99\n",
      "Data columns (total 24 columns):\n",
      " #   Column                   Non-Null Count  Dtype  \n",
      "---  ------                   --------------  -----  \n",
      " 0   Product type             100 non-null    object \n",
      " 1   SKU                      100 non-null    object \n",
      " 2   Price                    100 non-null    float64\n",
      " 3   Availability             100 non-null    int64  \n",
      " 4   Number of products sold  100 non-null    int64  \n",
      " 5   Revenue generated        100 non-null    float64\n",
      " 6   Customer demographics    100 non-null    object \n",
      " 7   Stock levels             100 non-null    int64  \n",
      " 8   Lead times               100 non-null    int64  \n",
      " 9   Order quantities         100 non-null    int64  \n",
      " 10  Shipping times           100 non-null    int64  \n",
      " 11  Shipping carriers        100 non-null    object \n",
      " 12  Shipping costs           100 non-null    float64\n",
      " 13  Supplier name            100 non-null    object \n",
      " 14  Location                 100 non-null    object \n",
      " 15  Lead time                100 non-null    int64  \n",
      " 16  Production volumes       100 non-null    int64  \n",
      " 17  Manufacturing lead time  100 non-null    int64  \n",
      " 18  Manufacturing costs      100 non-null    float64\n",
      " 19  Inspection results       100 non-null    object \n",
      " 20  Defect rates             100 non-null    float64\n",
      " 21  Transportation modes     100 non-null    object \n",
      " 22  Routes                   100 non-null    object \n",
      " 23  Costs                    100 non-null    float64\n",
      "dtypes: float64(6), int64(9), object(9)\n",
      "memory usage: 18.9+ KB\n"
     ]
    }
   ],
   "source": [
    "data.info()"
   ]
  },
  {
   "cell_type": "code",
   "execution_count": 7,
   "id": "69fd622d-3de7-4b3e-b314-1a5fe4c8ac6b",
   "metadata": {},
   "outputs": [
    {
     "name": "stdout",
     "output_type": "stream",
     "text": [
      "Product type               0\n",
      "SKU                        0\n",
      "Price                      0\n",
      "Availability               0\n",
      "Number of products sold    0\n",
      "Revenue generated          0\n",
      "Customer demographics      0\n",
      "Stock levels               0\n",
      "Lead times                 0\n",
      "Order quantities           0\n",
      "Shipping times             0\n",
      "Shipping carriers          0\n",
      "Shipping costs             0\n",
      "Supplier name              0\n",
      "Location                   0\n",
      "Lead time                  0\n",
      "Production volumes         0\n",
      "Manufacturing lead time    0\n",
      "Manufacturing costs        0\n",
      "Inspection results         0\n",
      "Defect rates               0\n",
      "Transportation modes       0\n",
      "Routes                     0\n",
      "Costs                      0\n",
      "dtype: int64\n"
     ]
    }
   ],
   "source": [
    "print(data.isnull().sum())"
   ]
  },
  {
   "cell_type": "code",
   "execution_count": 8,
   "id": "a01de54b-3316-442a-b3e1-7191ced94db0",
   "metadata": {},
   "outputs": [],
   "source": [
    "data_cleaned = data.dropna()"
   ]
  },
  {
   "cell_type": "code",
   "execution_count": 9,
   "id": "0f0b0881-308e-4887-bd87-6919a79bf631",
   "metadata": {},
   "outputs": [
    {
     "data": {
      "image/png": "[encoded data removed]",
      "text/plain": [
       "<Figure size 640x480 with 1 Axes>"
      ]
     },
     "metadata": {},
     "output_type": "display_data"
    }
   ],
   "source": [
    "plt.hist(data_cleaned['Lead times'], bins=20, color='blue', alpha=0.7)\n",
    "plt.title('Distribuição dos Tempos de Entrega')\n",
    "plt.xlabel('Tempo de Entrega (dias)')\n",
    "plt.ylabel('Frequência')\n",
    "plt.show()"
   ]
  },
  {
   "cell_type": "code",
   "execution_count": 10,
   "id": "ef6e3b01-e917-4ce8-8346-7bb41d419c53",
   "metadata": {},
   "outputs": [
    {
     "data": {
      "image/png": "[encoded data removed]",
      "text/plain": [
       "<Figure size 640x480 with 1 Axes>"
      ]
     },
     "metadata": {},
     "output_type": "display_data"
    }
   ],
   "source": [
    "data_cleaned.groupby('Transportation modes')['Lead times'].mean().plot(kind='bar')\n",
    "plt.title('Média dos Tempos de Entrega por Modo de Transporte')\n",
    "plt.xlabel('Modo de Transporte')\n",
    "plt.ylabel('Tempo de Entrega Médio (dias)')\n",
    "plt.show()"
   ]
  },
  {
   "cell_type": "code",
   "execution_count": 11,
   "id": "c4ab2aa7-a518-434d-9483-375e834b58c0",
   "metadata": {},
   "outputs": [
    {
     "data": {
      "image/png": "[encoded data removed]",
      "text/plain": [
       "<Figure size 640x480 with 1 Axes>"
      ]
     },
     "metadata": {},
     "output_type": "display_data"
    }
   ],
   "source": [
    "data_cleaned.groupby('Routes')['Lead times'].mean().plot(kind='bar')\n",
    "plt.title('Média dos Tempos de Entrega por Rota')\n",
    "plt.xlabel('Rota')\n",
    "plt.ylabel('Tempo de Entrega Médio (dias)')\n",
    "plt.show()"
   ]
  },
  {
   "cell_type": "code",
   "execution_count": 12,
   "id": "c5ab73a3-1e1a-45f8-8a31-09f869567b0a",
   "metadata": {},
   "outputs": [],
   "source": [
    "problem = LpProblem(\"Minimização_dos_Tempos_de_Entrega\", LpMinimize)"
   ]
  },
  {
   "cell_type": "code",
   "execution_count": 13,
   "id": "5abd2c54-ce4f-48c0-a1ec-0528851df928",
   "metadata": {},
   "outputs": [],
   "source": [
    "rotas = data_cleaned['Routes'].unique()\n",
    "modos_transporte = data_cleaned['Transportation modes'].unique()"
   ]
  },
  {
   "cell_type": "code",
   "execution_count": 14,
   "id": "8aa49bb3-4382-4122-88ab-1ea182368328",
   "metadata": {},
   "outputs": [],
   "source": [
    "x = LpVariable.dicts(\"x\", [(rota, modo) for rota in rotas for modo in modos_transporte], lowBound=0, cat='Continuous')"
   ]
  },
  {
   "cell_type": "code",
   "execution_count": 15,
   "id": "68ebbd88-fe6a-4cb5-bf69-ff2dc5818544",
   "metadata": {},
   "outputs": [],
   "source": [
    "problem += lpSum([x[(rota, modo)] * data_cleaned.loc[(data_cleaned['Routes'] == rota) & \n",
    "                                                     (data_cleaned['Transportation modes'] == modo), \n",
    "                                                     'Lead times'].mean() \n",
    "                  for rota in rotas for modo in modos_transporte])"
   ]
  },
  {
   "cell_type": "code",
   "execution_count": 16,
   "id": "2206b086-ea73-498b-969e-60983f6c706b",
   "metadata": {},
   "outputs": [],
   "source": [
    "for rota in rotas:\n",
    "    problem += lpSum([x[(rota, modo)] for modo in modos_transporte]) >= 1\n"
   ]
  },
  {
   "cell_type": "code",
   "execution_count": 17,
   "id": "1dc3ed94-4454-4afd-ac1a-ac1391550a5c",
   "metadata": {},
   "outputs": [
    {
     "data": {
      "text/plain": [
       "1"
      ]
     },
     "execution_count": 17,
     "metadata": {},
     "output_type": "execute_result"
    }
   ],
   "source": [
    "problem.solve()"
   ]
  },
  {
   "cell_type": "code",
   "execution_count": 18,
   "id": "bd7cd5df-d2b5-480d-afba-d95d03ecc4e3",
   "metadata": {},
   "outputs": [
    {
     "name": "stdout",
     "output_type": "stream",
     "text": [
      "Status: 1\n"
     ]
    }
   ],
   "source": [
    "print(f\"Status: {problem.status}\")"
   ]
  },
  {
   "cell_type": "code",
   "execution_count": 19,
   "id": "6fbbd757-af29-48b2-8378-fc10fc20637e",
   "metadata": {},
   "outputs": [
    {
     "name": "stdout",
     "output_type": "stream",
     "text": [
      "x_('Route_A',_'Air') = 0.0\n",
      "x_('Route_A',_'Rail') = 1.0\n",
      "x_('Route_A',_'Road') = 0.0\n",
      "x_('Route_A',_'Sea') = 0.0\n",
      "x_('Route_B',_'Air') = 0.0\n",
      "x_('Route_B',_'Rail') = 0.0\n",
      "x_('Route_B',_'Road') = 0.0\n",
      "x_('Route_B',_'Sea') = 1.0\n",
      "x_('Route_C',_'Air') = 0.0\n",
      "x_('Route_C',_'Rail') = 0.0\n",
      "x_('Route_C',_'Road') = 0.0\n",
      "x_('Route_C',_'Sea') = 1.0\n"
     ]
    }
   ],
   "source": [
    "for v in problem.variables():\n",
    "    print(f\"{v.name} = {v.varValue}\")"
   ]
  },
  {
   "cell_type": "code",
   "execution_count": 20,
   "id": "c119a871-823e-4be0-82d3-46ef46a0ea11",
   "metadata": {},
   "outputs": [
    {
     "name": "stdout",
     "output_type": "stream",
     "text": [
      "Tempo total de entrega minimizado: 32.761904761904766\n"
     ]
    }
   ],
   "source": [
    "print(f\"Tempo total de entrega minimizado: {problem.objective.value()}\")\n"
   ]
  },
  {
   "cell_type": "code",
   "execution_count": 25,
   "id": "e5ef1cb9-642b-4a2c-98cc-533fb187d111",
   "metadata": {},
   "outputs": [
    {
     "data": {
      "text/plain": [
       "['C:\\\\Users\\\\Usuário\\\\modelo_otimizacao_logistica.pkl']"
      ]
     },
     "execution_count": 25,
     "metadata": {},
     "output_type": "execute_result"
    }
   ],
   "source": [
    "model_filename = 'C:\\\\Users\\\\Usuário\\\\modelo_otimizacao_logistica.pkl'\n",
    "joblib.dump(problem, model_filename)"
   ]
  },
  {
   "cell_type": "code",
   "execution_count": 26,
   "id": "f8b6efbc-b55a-449e-8030-de3c9ab307cb",
   "metadata": {},
   "outputs": [],
   "source": [
    "##Análise mais detalhada: Podemos examinar quais rotas e modos de transporte foram escolhidos pelo modelo, \n",
    "##para entender como o tempo total foi minimizado."
   ]
  },
  {
   "cell_type": "code",
   "execution_count": 27,
   "id": "e7e92d8d-5a1a-41b7-b571-48b081d9df38",
   "metadata": {},
   "outputs": [
    {
     "name": "stdout",
     "output_type": "stream",
     "text": [
      "Rota e Modo de Transporte selecionados: x_('Route_A',_'Rail') = 1.0\n",
      "Rota e Modo de Transporte selecionados: x_('Route_B',_'Sea') = 1.0\n",
      "Rota e Modo de Transporte selecionados: x_('Route_C',_'Sea') = 1.0\n"
     ]
    }
   ],
   "source": [
    "for v in problem.variables():\n",
    "    if v.varValue > 0:  # Apenas mostrar as variáveis que foram selecionadas (valor > 0)\n",
    "        print(f\"Rota e Modo de Transporte selecionados: {v.name} = {v.varValue}\")"
   ]
  },
  {
   "cell_type": "code",
   "execution_count": null,
   "id": "2cafe490-a0f2-4270-974a-cd68168f9cdf",
   "metadata": {},
   "outputs": [],
   "source": []
  }
 ],
 "metadata": {
  "kernelspec": {
   "display_name": "Python 3 (ipykernel)",
   "language": "python",
   "name": "python3"
  },
  "language_info": {
   "codemirror_mode": {
    "name": "ipython",
    "version": 3
   },
   "file_extension": ".py",
   "mimetype": "text/x-python",
   "name": "python",
   "nbconvert_exporter": "python",
   "pygments_lexer": "ipython3",
   "version": "3.11.5"
  }
 },
 "nbformat": 4,
 "nbformat_minor": 5
}
